{
 "cells": [
  {
   "cell_type": "markdown",
   "metadata": {},
   "source": [
    "**Installinf pico onPi**<br>\n",
    "https://www.raspberrypi.org/forums/viewtopic.php?t=184147<br>\n",
    "sudo apt install libttspico-utils<br>\n",
    "**Installing Mplayer on Pi**<br>\n",
    "https://itsfoss.com/mplayer/<br>\n",
    "sudo apt install mplayer mplayer-gui"
   ]
  },
  {
   "cell_type": "code",
   "execution_count": null,
   "metadata": {
    "ExecuteTime": {
     "end_time": "2019-05-21T05:04:46.318324Z",
     "start_time": "2019-05-21T05:04:30.770067Z"
    }
   },
   "outputs": [],
   "source": [
    "#https://medium.com/@neotheicebird/webcam-based-image-processing-in-ipython-notebooks-47c75a022514\n",
    "%matplotlib inline\n",
    "\n",
    "import cv2\n",
    "import matplotlib.pyplot as plt\n",
    "from IPython import display\n",
    "\n",
    "vc = cv2.VideoCapture(0)\n",
    "\n",
    "if vc.isOpened(): # try to get the first frame\n",
    "    is_capturing, frame = vc.read()\n",
    "    frame = cv2.cvtColor(frame, cv2.COLOR_BGR2RGB)    # makes the blues image look real colored\n",
    "    webcam_preview = plt.imshow(frame)    \n",
    "else:\n",
    "    is_capturing = False\n",
    "\n",
    "while is_capturing:\n",
    "    try:    # Lookout for a keyboardInterrupt to stop the script\n",
    "        is_capturing, frame = vc.read()\n",
    "        frame = cv2.cvtColor(frame, cv2.COLOR_BGR2RGB)    # makes the blues image look real colored\n",
    "        webcam_preview.set_data(frame)\n",
    "        plt.draw()\n",
    "\n",
    "        display.clear_output(wait=True)\n",
    "        display.display(plt.gcf())\n",
    "\n",
    "        plt.pause(0.1)    # the pause time is = 1 / framerate\n",
    "    except KeyboardInterrupt:\n",
    "        vc.release()"
   ]
  },
  {
   "cell_type": "code",
   "execution_count": null,
   "metadata": {},
   "outputs": [],
   "source": [
    "#https://towardsdatascience.com/video-streaming-in-the-jupyter-notebook-635bc5809e85"
   ]
  },
  {
   "cell_type": "code",
   "execution_count": null,
   "metadata": {
    "ExecuteTime": {
     "end_time": "2019-05-21T04:37:43.669974Z",
     "start_time": "2019-05-21T04:37:43.518631Z"
    }
   },
   "outputs": [],
   "source": [
    "#Checking Pi Camera\n",
    "from imutils.video.pivideostream import PiVideoStream\n",
    "from imutils.video import FPS\n",
    "from picamera.array import PiRGBArray\n",
    "from picamera import PiCamera\n",
    "import time\n",
    "import cv2\n",
    "import numpy "
   ]
  },
  {
   "cell_type": "code",
   "execution_count": null,
   "metadata": {
    "ExecuteTime": {
     "end_time": "2019-05-21T04:38:34.324927Z",
     "start_time": "2019-05-21T04:38:34.172416Z"
    }
   },
   "outputs": [],
   "source": [
    "import io\n",
    "import cv2\n",
    "import numpy as np\n",
    "from IPython.display import clear_output, Image, display\n",
    "import PIL.Image\n",
    "\n",
    "def showarray(a, fmt='jpeg'):\n",
    "    a = np.uint8(np.clip(a, 0, 255))\n",
    "    f = io.BytesIO()\n",
    "    PIL.Image.fromarray(a).save(f, fmt)\n",
    "    display(Image(data=f.getvalue()))\n",
    "\n",
    "print(\"[INFO] cam sampling THREADED frames from `picamera` module...\")\n",
    "vs = PiVideoStream().start()\n",
    "time.sleep(2.0)\n",
    "fps = FPS().start()\n",
    "while True:\n",
    "        # grab next frame\n",
    "        img = vs.read()\n",
    "        key = cv2.waitKey(2) & 0xFF\n",
    "        img_chg = cv2.cvtColor(img, cv2.COLOR_BGR2RGB)\n",
    "\n",
    "        # keybindings for display\n",
    "        if key == ord('p'):  # pause\n",
    "            while True:\n",
    "                key2 = cv2.waitKey(1) or 0xff\n",
    "                img_chg = cv2.cvtColor(img, cv2.COLOR_BGR2RGB)\n",
    "                showarray(img_chg)\n",
    "                if key2 == ord('p'):  # resume\n",
    "                    break\n",
    "        showarray(img_chg)\n",
    "        if key == 27:  # qqexitq\n",
    "            break "
   ]
  },
  {
   "cell_type": "code",
   "execution_count": null,
   "metadata": {
    "ExecuteTime": {
     "end_time": "2019-05-21T04:38:27.442060Z",
     "start_time": "2019-05-21T04:38:27.360067Z"
    }
   },
   "outputs": [],
   "source": [
    "vs.stop()\n"
   ]
  },
  {
   "cell_type": "code",
   "execution_count": 16,
   "metadata": {
    "ExecuteTime": {
     "end_time": "2019-05-22T13:48:55.057869Z",
     "start_time": "2019-05-22T13:48:55.034006Z"
    }
   },
   "outputs": [
    {
     "name": "stdout",
     "output_type": "stream",
     "text": [
      "Port 18 is 0/GPIO.LOW/False\n"
     ]
    }
   ],
   "source": [
    "#https://raspi.tv/2013/rpi-gpio-basics-4-setting-up-rpi-gpio-numbering-systems-and-inputs\n",
    "import RPi.GPIO as GPIO  \n",
    "GPIO.setmode(GPIO.BCM)       # set up BCM GPIO numbering  \n",
    "GPIO.setup(18, GPIO.IN)      # set GPIO 25 as input  \n",
    "  \n",
    "if GPIO.input(18):           # if port 25 == 1  \n",
    "    print (\"Port 18 is 1/GPIO.HIGH/True\")  \n",
    "else:  \n",
    "    print (\"Port 18 is 0/GPIO.LOW/False\")  \n",
    "  \n",
    "GPIO.cleanup()   "
   ]
  },
  {
   "cell_type": "code",
   "execution_count": null,
   "metadata": {
    "ExecuteTime": {
     "end_time": "2019-05-21T04:23:16.223269Z",
     "start_time": "2019-05-21T04:23:11.273625Z"
    }
   },
   "outputs": [],
   "source": [
    "#https://gist.github.com/mstfldmr/45d6e47bb661800b982c39d30215bc88\n",
    "from matplotlib import pyplot as plt\n",
    "import cv2\n",
    "\n",
    "img = cv2.imread('/home/pi/Downloads/test1.jpeg')\n",
    "RGB_im = cv2.cvtColor(img, cv2.COLOR_BGR2RGB) #Matplot lib expects img in RGB format but OpenCV provides it in BGR.\n",
    "\n",
    "plt.imshow(RGB_im)\n",
    "plt.title('my picture')\n",
    "plt.show(block=False)\n",
    "plt.pause(3)\n",
    "plt.close('all')"
   ]
  },
  {
   "cell_type": "code",
   "execution_count": null,
   "metadata": {
    "ExecuteTime": {
     "end_time": "2019-05-21T03:38:44.907688Z",
     "start_time": "2019-05-21T03:38:44.383271Z"
    }
   },
   "outputs": [],
   "source": [
    "#https://stackoverflow.com/questions/34643747/ipython-notebook-jupyter-opencv-cv2-and-plotting\n",
    "import io\n",
    "import cv2\n",
    "import numpy as np\n",
    "from IPython.display import clear_output, Image, display\n",
    "import PIL.Image\n",
    "\n",
    "def showarray(a, fmt='jpeg'):\n",
    "    a = np.uint8(np.clip(a, 0, 255))\n",
    "    f = io.BytesIO()\n",
    "    PIL.Image.fromarray(a).save(f, fmt)\n",
    "    display(Image(data=f.getvalue()))\n",
    "\n",
    "img = cv2.imread(\"/home/pi/Downloads/test1.jpeg\") \n",
    "img_chg = cv2.cvtColor(img, cv2.COLOR_BGR2RGB)\n",
    "showarray(img_chg)"
   ]
  },
  {
   "cell_type": "code",
   "execution_count": null,
   "metadata": {
    "ExecuteTime": {
     "start_time": "2019-05-21T03:08:47.198Z"
    }
   },
   "outputs": [],
   "source": [
    "print(\"[INFO] cam sampling THREADED frames from `picamera` module...\")\n",
    "vs = PiVideoStream().start()\n",
    "time.sleep(2.0)\n",
    "fps = FPS().start()\n",
    "while True:\n",
    "        # grab next frame\n",
    "        frame = vs.read()\n",
    "        key = cv2.waitKey(1) & 0xFF\n",
    "\n",
    "        # update FPS counter\n",
    "        fps.update()\n",
    "        #frame = predict(frame)\n",
    "\n",
    "        # keybindings for display\n",
    "        if key == ord('p'):  # pause\n",
    "            while True:\n",
    "               key2 = cv2.waitKey(1) or 0xff\n",
    "               cv2.imshow('frame', frame)\n",
    "               if key2 == ord('p'):  # resume\n",
    "                    break\n",
    "        cv2.imshow('frame', frame)\n",
    "        if key == 27:  # qqexitq\n",
    "            break "
   ]
  }
 ],
 "metadata": {
  "kernelspec": {
   "display_name": "Python 3",
   "language": "python",
   "name": "python3"
  },
  "language_info": {
   "codemirror_mode": {
    "name": "ipython",
    "version": 3
   },
   "file_extension": ".py",
   "mimetype": "text/x-python",
   "name": "python",
   "nbconvert_exporter": "python",
   "pygments_lexer": "ipython3",
   "version": "3.5.3"
  },
  "toc": {
   "base_numbering": 1,
   "nav_menu": {},
   "number_sections": true,
   "sideBar": true,
   "skip_h1_title": false,
   "title_cell": "Table of Contents",
   "title_sidebar": "Contents",
   "toc_cell": false,
   "toc_position": {},
   "toc_section_display": true,
   "toc_window_display": false
  },
  "varInspector": {
   "cols": {
    "lenName": 16,
    "lenType": 16,
    "lenVar": 40
   },
   "kernels_config": {
    "python": {
     "delete_cmd_postfix": "",
     "delete_cmd_prefix": "del ",
     "library": "var_list.py",
     "varRefreshCmd": "print(var_dic_list())"
    },
    "r": {
     "delete_cmd_postfix": ") ",
     "delete_cmd_prefix": "rm(",
     "library": "var_list.r",
     "varRefreshCmd": "cat(var_dic_list()) "
    }
   },
   "types_to_exclude": [
    "module",
    "function",
    "builtin_function_or_method",
    "instance",
    "_Feature"
   ],
   "window_display": false
  }
 },
 "nbformat": 4,
 "nbformat_minor": 2
}
