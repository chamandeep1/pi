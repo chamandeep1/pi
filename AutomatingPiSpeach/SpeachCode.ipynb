{
 "cells": [
  {
   "cell_type": "code",
   "execution_count": 1,
   "metadata": {
    "ExecuteTime": {
     "end_time": "2019-05-31T18:38:28.107840Z",
     "start_time": "2019-05-31T18:38:27.901689Z"
    }
   },
   "outputs": [
    {
     "name": "stderr",
     "output_type": "stream",
     "text": [
      "/usr/lib/python3.5/importlib/_bootstrap.py:222: RuntimeWarning: compiletime version 3.4 of module 'tensorflow.python.framework.fast_tensor_util' does not match runtime version 3.5\n",
      "  return f(*args, **kwds)\n",
      "/usr/lib/python3.5/importlib/_bootstrap.py:222: RuntimeWarning: builtins.type size changed, may indicate binary incompatibility. Expected 432, got 412\n",
      "  return f(*args, **kwds)\n"
     ]
    }
   ],
   "source": [
    "from __future__ import absolute_import\n",
    "from __future__ import division\n",
    "from __future__ import print_function\n",
    "\n",
    "# cam\n",
    "from imutils.video.pivideostream import PiVideoStream\n",
    "from imutils.video import FPS\n",
    "#sudo pip3 install imutils\n",
    "from picamera.array import PiRGBArray\n",
    "from picamera import PiCamera\n",
    "import argparse\n",
    "import imutils\n",
    "import time\n",
    "import cv2\n",
    "import random\n",
    "\n",
    "import os\n",
    "import os.path\n",
    "import re\n",
    "import sys\n",
    "import tarfile\n",
    "\n",
    "import numpy as np\n",
    "from six.moves import urllib\n",
    "import tensorflow as tf\n",
    "\n",
    "# button\n",
    "\n",
    "import RPi.GPIO as GPIO\n",
    "import time\n",
    "import datetime"
   ]
  },
  {
   "cell_type": "code",
   "execution_count": 2,
   "metadata": {
    "ExecuteTime": {
     "end_time": "2019-05-22T14:53:58.787797Z",
     "start_time": "2019-05-22T14:53:58.623860Z"
    }
   },
   "outputs": [],
   "source": [
    "#PiCamera?"
   ]
  },
  {
   "cell_type": "code",
   "execution_count": 3,
   "metadata": {
    "ExecuteTime": {
     "end_time": "2019-05-22T14:53:58.821827Z",
     "start_time": "2019-05-22T14:53:58.803467Z"
    }
   },
   "outputs": [],
   "source": [
    "GPIO.setmode(GPIO.BCM)\n",
    "\n",
    "GPIO.setup(18, GPIO.IN, pull_up_down=GPIO.PUD_UP)\n",
    "\n",
    "FLAGS = tf.app.flags.FLAGS\n"
   ]
  },
  {
   "cell_type": "code",
   "execution_count": 4,
   "metadata": {
    "ExecuteTime": {
     "end_time": "2019-05-31T17:57:15.145607Z",
     "start_time": "2019-05-31T17:57:15.031561Z"
    }
   },
   "outputs": [],
   "source": [
    "#Link to get understanding of FLAGS: https://stackoverflow.com/questions/33932901/whats-the-purpose-of-tf-app-flags-in-tensorflow\n",
    "\n",
    "# classify_image_graph_def.pb:\n",
    "#   Binary representation of the GraphDef protocol buffer.\n",
    "# imagenet_synset_to_human_label_map.txt:\n",
    "#   Map from synset ID to a human readable string.\n",
    "# imagenet_2012_challenge_label_map_proto.pbtxt:\n",
    "#   Text r  epresentation of a protocol buffer mapping a label to synset ID.\n",
    "tf.app.flags.DEFINE_string(\n",
    "    'model_dir', '/home/pi/tensorflow/tensorflow/models/image/imagenet/model_dir',\n",
    "    \"\"\"Path to classify_image_graph_def.pb, \"\"\"\n",
    "    \"\"\"imagenet_synset_to_human_label_map.txt, and \"\"\"\n",
    "    \"\"\"imagenet_2012_challenge_label_map_proto.pbtxt.\"\"\")\n",
    "tf.app.flags.DEFINE_string('image_file', '',\n",
    "                           \"\"\"Absolute path to image file.\"\"\")\n",
    "tf.app.flags.DEFINE_integer('num_top_predictions', 5,\n",
    "                            \"\"\"Display this many predictions.\"\"\")"
   ]
  },
  {
   "cell_type": "code",
   "execution_count": 5,
   "metadata": {
    "ExecuteTime": {
     "end_time": "2019-05-22T14:53:58.883464Z",
     "start_time": "2019-05-22T14:53:58.871372Z"
    }
   },
   "outputs": [],
   "source": [
    "# pylint: disable=line-too-long\n",
    "DATA_URL = 'http://download.tensorflow.org/models/image/imagenet/inception-2015-12-05.tgz'\n",
    "# pylint: enable=line-too-long"
   ]
  },
  {
   "cell_type": "code",
   "execution_count": 6,
   "metadata": {
    "ExecuteTime": {
     "end_time": "2019-05-22T14:54:01.364392Z",
     "start_time": "2019-05-22T14:53:58.895272Z"
    }
   },
   "outputs": [
    {
     "name": "stdout",
     "output_type": "stream",
     "text": [
      "[INFO] cam sampling THREADED frames from `picamera` module...\n"
     ]
    }
   ],
   "source": [
    "# cam\n",
    "print(\"[INFO] cam sampling THREADED frames from `picamera` module...\")\n",
    "vs = PiVideoStream().start()\n",
    "time.sleep(2.0)\n",
    "fps = FPS().start()"
   ]
  },
  {
   "cell_type": "code",
   "execution_count": 7,
   "metadata": {
    "ExecuteTime": {
     "end_time": "2019-05-22T14:54:01.506940Z",
     "start_time": "2019-05-22T14:54:01.391288Z"
    }
   },
   "outputs": [],
   "source": [
    "\n",
    "### more\n",
    "def run_image(sess, img_id, img_url, node_lookup):\n",
    "  from six.moves import urllib\n",
    "  from urllib2 import HTTPError\n",
    "  try:\n",
    "    image_data = urllib.request.urlopen(img_url, timeout=1.0).read()\n",
    "  except HTTPError:\n",
    "    return (img_id, img_url, None)\n",
    "  except:\n",
    "    return (img_id, img_url, None)\n",
    "  scores = []\n",
    "  softmax_tensor = sess.graph.get_tensor_by_name('softmax:0')\n",
    "  predictions = sess.run(softmax_tensor,\n",
    "                         {'DecodeJpeg/contents:0': image_data})\n",
    "  predictions = np.squeeze(predictions)\n",
    "  top_k = predictions.argsort()[-num_top_predictions:][::-1]\n",
    "  scores = []\n",
    "  for node_id in top_k:\n",
    "    if node_id not in node_lookup:\n",
    "      human_string = ''\n",
    "    else:\n",
    "      human_string = node_lookup[node_id]\n",
    "    score = predictions[node_id]\n",
    "    scores.append((human_string, score))\n",
    "  return (img_id, img_url, scores)\n",
    "\n",
    "\n",
    "### end more"
   ]
  },
  {
   "cell_type": "code",
   "execution_count": 8,
   "metadata": {
    "ExecuteTime": {
     "end_time": "2019-05-22T14:54:01.604797Z",
     "start_time": "2019-05-22T14:54:01.518458Z"
    }
   },
   "outputs": [],
   "source": [
    "class NodeLookup(object):\n",
    "  \"\"\"Converts integer node ID's to human readable labels.\"\"\"\n",
    "\n",
    "  def __init__(self,\n",
    "               label_lookup_path=None,\n",
    "               uid_lookup_path=None):\n",
    "    if not label_lookup_path:\n",
    "      label_lookup_path = os.path.join(\n",
    "          FLAGS.model_dir, 'imagenet_2012_challenge_label_map_proto.pbtxt')\n",
    "    if not uid_lookup_path:\n",
    "      uid_lookup_path = os.path.join(\n",
    "          FLAGS.model_dir, 'imagenet_synset_to_human_label_map.txt')\n",
    "    self.node_lookup = self.load(label_lookup_path, uid_lookup_path)\n",
    "\n",
    "  def load(self, label_lookup_path, uid_lookup_path):\n",
    "    \"\"\"Loads a human readable English name for each softmax node.\n",
    "    Args:\n",
    "      label_lookup_path: string UID to integer node ID.\n",
    "      uid_lookup_path: string UID to human-readable string.\n",
    "    Returns:\n",
    "      dict from integer node ID to human-readable string.\n",
    "    \"\"\"\n",
    "    if not tf.gfile.Exists(uid_lookup_path):\n",
    "      tf.logging.fatal('File does not exist %s', uid_lookup_path)\n",
    "    if not tf.gfile.Exists(label_lookup_path):\n",
    "      tf.logging.fatal('File does not exist %s', label_lookup_path)\n",
    "\n",
    "    # Loads mapping from string UID to human-readable string\n",
    "    proto_as_ascii_lines = tf.gfile.GFile(uid_lookup_path).readlines()\n",
    "    uid_to_human = {}\n",
    "    p = re.compile(r'[n\\d]*[ \\S,]*')\n",
    "    for line in proto_as_ascii_lines:\n",
    "      parsed_items = p.findall(line)\n",
    "      uid = parsed_items[0]\n",
    "      human_string = parsed_items[2]\n",
    "      uid_to_human[uid] = human_string\n",
    "\n",
    "    # Loads mapping from string UID to integer node ID.\n",
    "    node_id_to_uid = {}\n",
    "    proto_as_ascii = tf.gfile.GFile(label_lookup_path).readlines()\n",
    "    for line in proto_as_ascii:\n",
    "      if line.startswith('  target_class:'):\n",
    "        target_class = int(line.split(': ')[1])\n",
    "      if line.startswith('  target_class_string:'):\n",
    "        target_class_string = line.split(': ')[1]\n",
    "        node_id_to_uid[target_class] = target_class_string[1:-2]\n",
    "\n",
    "    # Loads the final mapping of integer node ID to human-readable string\n",
    "    node_id_to_name = {}\n",
    "    for key, val in node_id_to_uid.items():\n",
    "      if val not in uid_to_human:\n",
    "        tf.logging.fatal('Failed to locate: %s', val)\n",
    "      name = uid_to_human[val]\n",
    "      node_id_to_name[key] = name\n",
    "\n",
    "    return node_id_to_name\n",
    "\n",
    "  def id_to_string(self, node_id):\n",
    "    if node_id not in self.node_lookup:\n",
    "      return ''\n",
    "    return self.node_lookup[node_id]"
   ]
  },
  {
   "cell_type": "code",
   "execution_count": 9,
   "metadata": {
    "ExecuteTime": {
     "end_time": "2019-05-22T14:54:01.652824Z",
     "start_time": "2019-05-22T14:54:01.622190Z"
    }
   },
   "outputs": [],
   "source": [
    "def create_graph():\n",
    "  \"\"\"Creates a graph from saved GraphDef file and returns a saver.\"\"\"\n",
    "  # Creates graph from saved graph_def.pb.\n",
    "  with tf.gfile.FastGFile(os.path.join(\n",
    "      FLAGS.model_dir, 'classify_image_graph_def.pb'), 'rb') as f:\n",
    "    graph_def = tf.GraphDef()\n",
    "    graph_def.ParseFromString(f.read())\n",
    "    _ = tf.import_graph_def(graph_def, name='')"
   ]
  },
  {
   "cell_type": "code",
   "execution_count": 10,
   "metadata": {
    "ExecuteTime": {
     "end_time": "2019-05-22T14:54:01.770211Z",
     "start_time": "2019-05-22T14:54:01.678896Z"
    }
   },
   "outputs": [],
   "source": [
    "def run_inference_on_image(fn='/home/pi/Desktop/camlive.jpg'):\n",
    "  \"\"\"Runs inference on an image.\n",
    "  Args:\n",
    "    image: Image file name.\n",
    "  Returns:\n",
    "    Nothing\n",
    "  \"\"\"\n",
    "\n",
    "  print(\"Starting tf.Session()\")\n",
    "  with tf.Session() as sess:\n",
    "    # Some useful tensors:\n",
    "    # 'softmax:0': A tensor containing the normalized prediction across\n",
    "    #   1000 labels.\n",
    "    # 'pool_3:0': A tensor containing the next-to-last layer containing 2048\n",
    "    #   float description of the image.\n",
    "    # 'DecodeJpeg/contents:0': A tensor containing a string providing JPEG\n",
    "    #   encoding of the image.\n",
    "    # Runs the softmax tensor by feeding the image_data as input to the graph.\n",
    "\n",
    "    print(\"Session initialized.\")\n",
    "    node_lookup = NodeLookup() # Creates node ID --> English string lookup.\n",
    "    print(\"done node lookup\")\n",
    "    softmax_tensor = sess.graph.get_tensor_by_name('softmax:0')\n",
    "    print(\"got tensor\")\n",
    "\n",
    "    while True:\n",
    "      input_state = GPIO.input(18)\n",
    "      if input_state == False:\n",
    "        print('Button Pressed')\n",
    "        frame = vs.read()\n",
    "        frame = imutils.resize(frame, width=400)\n",
    "        print('Captured %dx%d image' % ( frame.shape[1], frame.shape[0]) )\n",
    "        cv2.imwrite(fn, frame)\n",
    "        print(\"written file\")\n",
    "        if not tf.gfile.Exists(fn):\n",
    "          tf.logging.fatal('File does not exist %s', fn)\n",
    "        image_data = tf.gfile.FastGFile(fn, 'rb').read()\n",
    "        print(\"read file\")\n",
    "        predictions = sess.run(softmax_tensor, {'DecodeJpeg/contents:0': image_data})\n",
    "        predictions = np.squeeze(predictions)\n",
    "        top_k = predictions.argsort()[-FLAGS.num_top_predictions:][::-1]\n",
    "        print(\"got predictions\")\n",
    "\n",
    "        node_id = top_k[0]\n",
    "        print(\"-------\")\n",
    "        print(node_id)\n",
    "        score = predictions[node_id]\n",
    "        print(score)\n",
    "        print(\"-------\")\n",
    "        human_string = None\n",
    "#        if(score > 0.20):\n",
    "        human_string = node_lookup.id_to_string(node_id)\n",
    "        arr = human_string.split(\",\")\n",
    "        print('%s (score = %.5f)' % (arr[0], score))\n",
    "        os.system(\"/usr/bin/pico2wave -w test.wav '\"+arr[0]+\"' | mplayer test.wav\")\n",
    "   #     else:\n",
    "    #        os.system(\"/usr/bin/pico2wave -w test.wav 'nothing' | mplayer test.wav\")\n",
    "\n",
    "        # save results\n",
    "        epoch = datetime.datetime.utcfromtimestamp(0)\n",
    "        dt = datetime.datetime.now().strftime(\"%Y%m%dT%H%M%S\")\n",
    "        os.system(\"cp \"+fn+\" results/\"+dt+\".jpg\")            \n",
    "        f1=open(\"results/\"+dt+\".txt\", 'w+')\n",
    "        f1.write(str(human_string))\n",
    "        f1.write(str(score))\n",
    "        f1.write(str(top_k))\n",
    "        f1.close()"
   ]
  },
  {
   "cell_type": "code",
   "execution_count": 11,
   "metadata": {
    "ExecuteTime": {
     "end_time": "2019-05-22T14:54:01.833426Z",
     "start_time": "2019-05-22T14:54:01.781099Z"
    }
   },
   "outputs": [],
   "source": [
    "def maybe_download_and_extract():\n",
    "  \"\"\"Download and extract model tar file.\"\"\"\n",
    "  dest_directory = FLAGS.model_dir\n",
    "  if not os.path.exists(dest_directory):\n",
    "    os.makedirs(dest_directory)\n",
    "  filename = DATA_URL.split('/')[-1]\n",
    "  filepath = os.path.join(dest_directory, filename)\n",
    "  if not os.path.exists(filepath):\n",
    "    def _progress(count, block_size, total_size):\n",
    "      sys.stdout.write('\\r>> Downloading %s %.1f%%' % (\n",
    "          filename, float(count * block_size) / float(total_size) * 100.0))\n",
    "      sys.stdout.flush()\n",
    "    filepath, _ = urllib.request.urlretrieve(DATA_URL, filepath,\n",
    "                                             reporthook=_progress)\n",
    "    print()\n",
    "    statinfo = os.stat(filepath)\n",
    "    print('Succesfully downloaded', filename, statinfo.st_size, 'bytes.')\n",
    "  tarfile.open(filepath, 'r:gz').extractall(dest_directory)"
   ]
  },
  {
   "cell_type": "code",
   "execution_count": null,
   "metadata": {
    "ExecuteTime": {
     "end_time": "2019-05-22T14:57:24.580884Z",
     "start_time": "2019-05-22T14:54:01.846301Z"
    }
   },
   "outputs": [
    {
     "name": "stdout",
     "output_type": "stream",
     "text": [
      ">> Downloading inception-2015-12-05.tgz 100.0%\n",
      "Succesfully downloaded inception-2015-12-05.tgz 88931400 bytes.\n",
      "WARNING:tensorflow:From <ipython-input-9-a798992268ce>:5: FastGFile.__init__ (from tensorflow.python.platform.gfile) is deprecated and will be removed in a future version.\n",
      "Instructions for updating:\n",
      "Use tf.gfile.GFile.\n",
      "Starting tf.Session()\n",
      "Session initialized.\n",
      "done node lookup\n",
      "got tensor\n",
      "Button Pressed\n",
      "Captured 400x300 image\n",
      "written file\n",
      "read file\n",
      "got predictions\n",
      "-------\n",
      "791\n",
      "0.11764793\n",
      "-------\n",
      "crossword puzzle (score = 0.11765)\n",
      "Button Pressed\n",
      "Captured 400x300 image\n",
      "written file\n",
      "read file\n",
      "got predictions\n",
      "-------\n",
      "791\n",
      "0.18508276\n",
      "-------\n",
      "crossword puzzle (score = 0.18508)\n",
      "Button Pressed\n",
      "Captured 400x300 image\n",
      "written file\n",
      "read file\n",
      "got predictions\n",
      "-------\n",
      "892\n",
      "0.43412784\n",
      "-------\n",
      "ladle (score = 0.43413)\n"
     ]
    }
   ],
   "source": [
    "def main(_):\n",
    "  maybe_download_and_extract()\n",
    "  create_graph()   # Creates graph from saved GraphDef.\n",
    "  run_inference_on_image()\n",
    "\n",
    "if __name__ == '__main__':\n",
    "  tf.app.run()"
   ]
  }
 ],
 "metadata": {
  "kernelspec": {
   "display_name": "Python 3",
   "language": "python",
   "name": "python3"
  },
  "language_info": {
   "codemirror_mode": {
    "name": "ipython",
    "version": 3
   },
   "file_extension": ".py",
   "mimetype": "text/x-python",
   "name": "python",
   "nbconvert_exporter": "python",
   "pygments_lexer": "ipython3",
   "version": "3.5.3"
  },
  "toc": {
   "base_numbering": 1,
   "nav_menu": {},
   "number_sections": true,
   "sideBar": true,
   "skip_h1_title": false,
   "title_cell": "Table of Contents",
   "title_sidebar": "Contents",
   "toc_cell": false,
   "toc_position": {},
   "toc_section_display": true,
   "toc_window_display": false
  },
  "varInspector": {
   "cols": {
    "lenName": 16,
    "lenType": 16,
    "lenVar": 40
   },
   "kernels_config": {
    "python": {
     "delete_cmd_postfix": "",
     "delete_cmd_prefix": "del ",
     "library": "var_list.py",
     "varRefreshCmd": "print(var_dic_list())"
    },
    "r": {
     "delete_cmd_postfix": ") ",
     "delete_cmd_prefix": "rm(",
     "library": "var_list.r",
     "varRefreshCmd": "cat(var_dic_list()) "
    }
   },
   "types_to_exclude": [
    "module",
    "function",
    "builtin_function_or_method",
    "instance",
    "_Feature"
   ],
   "window_display": false
  }
 },
 "nbformat": 4,
 "nbformat_minor": 2
}
