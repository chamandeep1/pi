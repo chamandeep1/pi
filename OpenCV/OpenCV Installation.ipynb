{
 "cells": [
  {
   "cell_type": "markdown",
   "metadata": {},
   "source": [
    "OpenCV Installation steps:\n",
    "https://tutorials-raspberrypi.com/installing-opencv-on-the-raspberry-pi/\n",
    "https://www.alatortsev.com/2018/11/21/installing-opencv-4-0-on-raspberry-pi-3-b/\n",
    "Disable precompiled headers\n",
    "https://answers.opencv.org/question/172521/error-compiling-opencv-300-in-raspberry-pi-zero/\n",
    "Screen Installation\n",
    "https://linuxize.com/post/how-to-use-linux-screen/\n",
    "OpenCV Git\n",
    "https://github.com/opencv/opencv"
   ]
  }
 ],
 "metadata": {
  "kernelspec": {
   "display_name": "Python 3",
   "language": "python",
   "name": "python3"
  },
  "language_info": {
   "codemirror_mode": {
    "name": "ipython",
    "version": 3
   },
   "file_extension": ".py",
   "mimetype": "text/x-python",
   "name": "python",
   "nbconvert_exporter": "python",
   "pygments_lexer": "ipython3",
   "version": "3.5.3"
  },
  "varInspector": {
   "cols": {
    "lenName": 16,
    "lenType": 16,
    "lenVar": 40
   },
   "kernels_config": {
    "python": {
     "delete_cmd_postfix": "",
     "delete_cmd_prefix": "del ",
     "library": "var_list.py",
     "varRefreshCmd": "print(var_dic_list())"
    },
    "r": {
     "delete_cmd_postfix": ") ",
     "delete_cmd_prefix": "rm(",
     "library": "var_list.r",
     "varRefreshCmd": "cat(var_dic_list()) "
    }
   },
   "types_to_exclude": [
    "module",
    "function",
    "builtin_function_or_method",
    "instance",
    "_Feature"
   ],
   "window_display": false
  }
 },
 "nbformat": 4,
 "nbformat_minor": 2
}
