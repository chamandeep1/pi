{
 "cells": [
  {
   "cell_type": "markdown",
   "metadata": {},
   "source": [
    "OpenCV Installation steps:<br>\n",
    "https://tutorials-raspberrypi.com/installing-opencv-on-the-raspberry-pi/<br>\n",
    "https://www.alatortsev.com/2018/11/21/installing-opencv-4-0-on-raspberry-pi-3-b/<br>\n",
    "Disable precompiled headers<br>\n",
    "https://answers.opencv.org/question/172521/error-compiling-opencv-300-in-raspberry-pi-zero/<br>\n",
    "Screen Installation<br>\n",
    "https://linuxize.com/post/how-to-use-linux-screen/<br>\n",
    "OpenCV Git<br>\n",
    "https://github.com/opencv/opencv"
   ]
  }
 ],
 "metadata": {
  "kernelspec": {
   "display_name": "Python 3",
   "language": "python",
   "name": "python3"
  },
  "language_info": {
   "codemirror_mode": {
    "name": "ipython",
    "version": 2
   },
   "file_extension": ".py",
   "mimetype": "text/x-python",
   "name": "python",
   "nbconvert_exporter": "python",
   "pygments_lexer": "ipython2",
   "version": "2.7.13"
  },
  "varInspector": {
   "cols": {
    "lenName": 16,
    "lenType": 16,
    "lenVar": 40
   },
   "kernels_config": {
    "python": {
     "delete_cmd_postfix": "",
     "delete_cmd_prefix": "del ",
     "library": "var_list.py",
     "varRefreshCmd": "print(var_dic_list())"
    },
    "r": {
     "delete_cmd_postfix": ") ",
     "delete_cmd_prefix": "rm(",
     "library": "var_list.r",
     "varRefreshCmd": "cat(var_dic_list()) "
    }
   },
   "types_to_exclude": [
    "module",
    "function",
    "builtin_function_or_method",
    "instance",
    "_Feature"
   ],
   "window_display": false
  }
 },
 "nbformat": 4,
 "nbformat_minor": 2
}
