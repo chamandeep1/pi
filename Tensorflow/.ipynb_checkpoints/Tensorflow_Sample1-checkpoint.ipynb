{
 "cells": [
  {
   "cell_type": "code",
   "execution_count": null,
   "metadata": {
    "ExecuteTime": {
     "end_time": "2019-05-14T17:05:23.962703Z",
     "start_time": "2019-05-14T17:05:22.914915Z"
    },
    "scrolled": true
   },
   "outputs": [],
   "source": [
    "import tensorflow as tf\n",
    "tf.__version__\n",
    "(x_train, y_train),(x_test, y_test) = tf.keras.datasets.mnist.load_data()"
   ]
  },
  {
   "cell_type": "code",
   "execution_count": null,
   "metadata": {
    "ExecuteTime": {
     "end_time": "2019-05-14T17:05:57.290035Z",
     "start_time": "2019-05-14T17:05:27.780891Z"
    }
   },
   "outputs": [],
   "source": [
    "x_train = tf.keras.utils.normalize(x_train, axis=1)\n",
    "x_test = tf.keras.utils.normalize(x_test, axis=1)"
   ]
  },
  {
   "cell_type": "code",
   "execution_count": null,
   "metadata": {
    "ExecuteTime": {
     "end_time": "2019-05-14T17:06:02.235574Z",
     "start_time": "2019-05-14T17:06:01.960394Z"
    }
   },
   "outputs": [],
   "source": [
    "model = tf.keras.models.Sequential()\n",
    "model.add(tf.keras.layers.Flatten())"
   ]
  },
  {
   "cell_type": "code",
   "execution_count": null,
   "metadata": {
    "ExecuteTime": {
     "end_time": "2019-05-14T17:06:03.900273Z",
     "start_time": "2019-05-14T17:06:03.778616Z"
    }
   },
   "outputs": [],
   "source": [
    "model.add(tf.keras.layers.Dense(128, activation=tf.nn.relu))\n",
    "model.add(tf.keras.layers.Dense(128, activation=tf.nn.relu))\n",
    "model.add(tf.keras.layers.Dense(10, activation=tf.nn.softmax))"
   ]
  },
  {
   "cell_type": "code",
   "execution_count": null,
   "metadata": {
    "ExecuteTime": {
     "end_time": "2019-05-14T17:06:06.711260Z",
     "start_time": "2019-05-14T17:06:05.777996Z"
    }
   },
   "outputs": [],
   "source": [
    "model.compile(optimizer='adam', \n",
    "             loss='sparse_categorical_crossentropy',\n",
    "             metrics=['accuracy'])"
   ]
  },
  {
   "cell_type": "code",
   "execution_count": null,
   "metadata": {
    "ExecuteTime": {
     "end_time": "2019-05-14T17:08:33.925155Z",
     "start_time": "2019-05-14T17:06:08.318746Z"
    }
   },
   "outputs": [],
   "source": [
    "model.fit(x_train, y_train, epochs=3)\n",
    "model.summary()"
   ]
  },
  {
   "cell_type": "code",
   "execution_count": null,
   "metadata": {
    "ExecuteTime": {
     "end_time": "2019-05-14T17:08:39.226347Z",
     "start_time": "2019-05-14T17:08:36.242621Z"
    }
   },
   "outputs": [],
   "source": [
    "val_loss, val_acc = model.evaluate(x_test, y_test)\n",
    "print(val_loss, val_acc)"
   ]
  },
  {
   "cell_type": "code",
   "execution_count": null,
   "metadata": {
    "ExecuteTime": {
     "end_time": "2019-05-14T17:15:43.427671Z",
     "start_time": "2019-05-14T17:15:42.458452Z"
    },
    "scrolled": true
   },
   "outputs": [],
   "source": [
    "import matplotlib.pyplot as plt\n",
    "plt.imshow(x_train[0])\n",
    "print(x_test.shape)\n",
    "print(x_test[0])"
   ]
  },
  {
   "cell_type": "code",
   "execution_count": null,
   "metadata": {
    "ExecuteTime": {
     "end_time": "2019-05-14T17:16:18.013923Z",
     "start_time": "2019-05-14T17:16:17.002453Z"
    }
   },
   "outputs": [],
   "source": [
    "model.save('epic_num_reader.h5',overwrite=True,include_optimizer=True)\n",
    "#https://github.com/keras-team/keras/issues/3426"
   ]
  },
  {
   "cell_type": "code",
   "execution_count": null,
   "metadata": {
    "ExecuteTime": {
     "end_time": "2019-05-14T17:21:54.261660Z",
     "start_time": "2019-05-14T17:21:52.538461Z"
    },
    "scrolled": true
   },
   "outputs": [],
   "source": [
    "new_model = tf.keras.models.load_model('epic_num_reader.h5')\n",
    "new_model.build(x_train.shape)\n",
    "new_model.summary()"
   ]
  },
  {
   "cell_type": "code",
   "execution_count": null,
   "metadata": {
    "ExecuteTime": {
     "end_time": "2019-05-14T17:22:03.677654Z",
     "start_time": "2019-05-14T17:21:58.212764Z"
    }
   },
   "outputs": [],
   "source": [
    "loss, acc = new_model.evaluate(x_test, y_test)\n",
    "print(\"Restored model, accuracy: {:5.2f}%\".format(100*acc))"
   ]
  },
  {
   "cell_type": "code",
   "execution_count": null,
   "metadata": {
    "ExecuteTime": {
     "end_time": "2019-05-14T17:23:23.965517Z",
     "start_time": "2019-05-14T17:23:23.892568Z"
    }
   },
   "outputs": [],
   "source": [
    "predictions =new_model.predict(x_train[[0]], verbose=1)\n",
    "print(predictions)"
   ]
  },
  {
   "cell_type": "code",
   "execution_count": null,
   "metadata": {
    "ExecuteTime": {
     "end_time": "2019-05-14T14:42:25.691108Z",
     "start_time": "2019-05-14T14:42:24.816237Z"
    }
   },
   "outputs": [],
   "source": [
    "plt.imshow(x_test[0])"
   ]
  },
  {
   "cell_type": "code",
   "execution_count": null,
   "metadata": {
    "ExecuteTime": {
     "end_time": "2019-05-14T15:19:37.541308Z",
     "start_time": "2019-05-14T15:19:37.448056Z"
    }
   },
   "outputs": [],
   "source": [
    "#**Tensorboard**<br>\n",
    "#https://stackoverflow.com/questions/55970686/tensorboard-not-found-as-magic-function-in-jupyter<br>\n",
    "#load_ext tensorboard.notebook<br>\n",
    "%reload_ext tensorboard.notebook\n",
    "%tensorboard --logdir=\"/home/pi\"\n",
    "#Use browser to open tensorboard with <ipaddress>:6006\n"
   ]
  }
 ],
 "metadata": {
  "kernelspec": {
   "display_name": "Python 3",
   "language": "python",
   "name": "python3"
  },
  "language_info": {
   "codemirror_mode": {
    "name": "ipython",
    "version": 3
   },
   "file_extension": ".py",
   "mimetype": "text/x-python",
   "name": "python",
   "nbconvert_exporter": "python",
   "pygments_lexer": "ipython3",
   "version": "3.5.3"
  },
  "varInspector": {
   "cols": {
    "lenName": 16,
    "lenType": 16,
    "lenVar": 40
   },
   "kernels_config": {
    "python": {
     "delete_cmd_postfix": "",
     "delete_cmd_prefix": "del ",
     "library": "var_list.py",
     "varRefreshCmd": "print(var_dic_list())"
    },
    "r": {
     "delete_cmd_postfix": ") ",
     "delete_cmd_prefix": "rm(",
     "library": "var_list.r",
     "varRefreshCmd": "cat(var_dic_list()) "
    }
   },
   "oldHeight": 293.79999999999995,
   "position": {
    "height": "315.4px",
    "left": "898px",
    "right": "20px",
    "top": "98px",
    "width": "516.4px"
   },
   "types_to_exclude": [
    "module",
    "function",
    "builtin_function_or_method",
    "instance",
    "_Feature"
   ],
   "varInspector_section_display": "block",
   "window_display": false
  }
 },
 "nbformat": 4,
 "nbformat_minor": 2
}
