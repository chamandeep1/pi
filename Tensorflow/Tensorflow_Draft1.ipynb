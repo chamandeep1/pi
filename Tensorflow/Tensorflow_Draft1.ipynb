{
 "cells": [
  {
   "cell_type": "code",
   "execution_count": null,
   "metadata": {
    "ExecuteTime": {
     "end_time": "2019-05-14T17:05:23.962703Z",
     "start_time": "2019-05-14T17:05:22.914915Z"
    },
    "scrolled": true
   },
   "outputs": [],
   "source": [
    "import tensorflow as tf\n",
    "tf.__version__\n",
    "(x_train, y_train),(x_test, y_test) = tf.keras.datasets.mnist.load_data()\n",
    "print(' x_train dimensions =', x_train.ndim,\n",
    "      '\\n x_train shape =', x_train.shape, \n",
    "      '\\n x_train size =', x_train.size, \n",
    "      '\\n x_train data type =', x_train.dtype, \n",
    "      '\\n x_train item size =', x_train.itemsize,\n",
    "      '\\n x_train data =', x_train.data)\n",
    "\n",
    "print('\\n x_test dimensions =', x_test.ndim,\n",
    "      '\\n x_test shape =', x_test.shape)\n",
    "#print('\\n x_test[0] dimensions =', x_test[[0]].ndim)    \n",
    "print('\\n y_train dimensions =', y_train.ndim,\n",
    "      '\\n y_train shape =', y_train.shape, \n",
    "      '\\n y_train size =', y_train.size, \n",
    "      '\\n y_train data type =', y_train.dtype, \n",
    "      '\\n y_train item size =', y_train.itemsize,\n",
    "      '\\n y_train data =', y_train.data)\n",
    "\n",
    "print ('\\n last row of y_train =', y_train[-1],\n",
    "       '\\n last row of x_train =', x_train[-1,:,-1])"
   ]
  },
  {
   "cell_type": "code",
   "execution_count": null,
   "metadata": {
    "ExecuteTime": {
     "end_time": "2019-05-14T17:05:57.290035Z",
     "start_time": "2019-05-14T17:05:27.780891Z"
    }
   },
   "outputs": [],
   "source": [
    "x_train = tf.keras.utils.normalize(x_train, axis=1)\n",
    "x_test = tf.keras.utils.normalize(x_test, axis=1)\n",
    "print(' x_train dimensions =', x_train.ndim,\n",
    "      '\\n x_train shape =', x_train.shape, \n",
    "      '\\n x_train size =', x_train.size, \n",
    "      '\\n x_train data type =', x_train.dtype, \n",
    "      '\\n x_train item size =', x_train.itemsize,\n",
    "      '\\n x_train data =', x_train.data)"
   ]
  },
  {
   "cell_type": "code",
   "execution_count": null,
   "metadata": {
    "ExecuteTime": {
     "end_time": "2019-05-14T17:06:02.235574Z",
     "start_time": "2019-05-14T17:06:01.960394Z"
    }
   },
   "outputs": [],
   "source": [
    "model = tf.keras.models.Sequential()\n",
    "model.add(tf.keras.layers.Flatten())"
   ]
  },
  {
   "cell_type": "code",
   "execution_count": null,
   "metadata": {
    "ExecuteTime": {
     "end_time": "2019-05-14T17:06:03.900273Z",
     "start_time": "2019-05-14T17:06:03.778616Z"
    }
   },
   "outputs": [],
   "source": [
    "model.add(tf.keras.layers.Dense(128, activation=tf.nn.relu))\n",
    "model.add(tf.keras.layers.Dense(128, activation=tf.nn.relu))\n",
    "model.add(tf.keras.layers.Dense(10, activation=tf.nn.softmax))"
   ]
  },
  {
   "cell_type": "code",
   "execution_count": null,
   "metadata": {
    "ExecuteTime": {
     "end_time": "2019-05-14T17:06:06.711260Z",
     "start_time": "2019-05-14T17:06:05.777996Z"
    }
   },
   "outputs": [],
   "source": [
    "model.compile(optimizer='adam', \n",
    "             loss='sparse_categorical_crossentropy',\n",
    "             metrics=['accuracy'])"
   ]
  },
  {
   "cell_type": "code",
   "execution_count": null,
   "metadata": {
    "ExecuteTime": {
     "end_time": "2019-05-14T17:08:33.925155Z",
     "start_time": "2019-05-14T17:06:08.318746Z"
    }
   },
   "outputs": [],
   "source": [
    "model.fit(x_train, y_train, epochs=3)\n",
    "model.summary()"
   ]
  },
  {
   "cell_type": "code",
   "execution_count": null,
   "metadata": {
    "ExecuteTime": {
     "end_time": "2019-05-14T17:08:39.226347Z",
     "start_time": "2019-05-14T17:08:36.242621Z"
    }
   },
   "outputs": [],
   "source": [
    "val_loss, val_acc = model.evaluate(x_test, y_test)\n",
    "print(val_loss, val_acc)"
   ]
  },
  {
   "cell_type": "code",
   "execution_count": null,
   "metadata": {
    "ExecuteTime": {
     "end_time": "2019-05-14T17:15:43.427671Z",
     "start_time": "2019-05-14T17:15:42.458452Z"
    },
    "scrolled": true
   },
   "outputs": [],
   "source": [
    "import matplotlib.pyplot as plt\n",
    "\n",
    "#plt.imshow(x_train[0], cmap=plt.cm.binary)\n",
    "plt.imshow(x_train[0])\n",
    "print(x_test.shape)\n",
    "print(x_test[0])"
   ]
  },
  {
   "cell_type": "code",
   "execution_count": null,
   "metadata": {
    "ExecuteTime": {
     "end_time": "2019-05-14T17:16:18.013923Z",
     "start_time": "2019-05-14T17:16:17.002453Z"
    }
   },
   "outputs": [],
   "source": [
    "model.save('epic_num_reader.h5',overwrite=True,include_optimizer=True)\n",
    "#https://github.com/keras-team/keras/issues/3426"
   ]
  },
  {
   "cell_type": "code",
   "execution_count": null,
   "metadata": {
    "ExecuteTime": {
     "end_time": "2019-05-14T17:21:54.261660Z",
     "start_time": "2019-05-14T17:21:52.538461Z"
    },
    "scrolled": true
   },
   "outputs": [],
   "source": [
    "new_model = tf.keras.models.load_model('epic_num_reader.h5')\n",
    "print(x_train.shape)\n",
    "print(x_train[0].shape)\n",
    "#plt.imshow(x_train[0])\n",
    "#print(x_test[0].flatten())\n",
    "#plt.imshow(x_train[0])\n",
    "new_model.build(x_train.shape)\n",
    "#new_model.build(input_shape=(1,28,28))\n",
    "new_model.summary()"
   ]
  },
  {
   "cell_type": "code",
   "execution_count": null,
   "metadata": {
    "ExecuteTime": {
     "end_time": "2019-05-14T17:22:03.677654Z",
     "start_time": "2019-05-14T17:21:58.212764Z"
    }
   },
   "outputs": [],
   "source": [
    "loss, acc = new_model.evaluate(x_test, y_test)\n",
    "print(\"Restored model, accuracy: {:5.2f}%\".format(100*acc))"
   ]
  },
  {
   "cell_type": "code",
   "execution_count": null,
   "metadata": {
    "ExecuteTime": {
     "end_time": "2019-05-14T15:48:14.637826Z",
     "start_time": "2019-05-14T15:48:14.585970Z"
    }
   },
   "outputs": [],
   "source": [
    "print(x_train[0].shape , x_train[0].size, x_train[0].ndim)\n",
    "sample1 = np.array(x_train[[0]])\n",
    "print(sample1.shape , sample1.size, sample1.ndim)"
   ]
  },
  {
   "cell_type": "code",
   "execution_count": null,
   "metadata": {
    "ExecuteTime": {
     "end_time": "2019-05-14T15:48:16.860627Z",
     "start_time": "2019-05-14T15:48:16.754402Z"
    }
   },
   "outputs": [],
   "source": [
    "x = np.array([1, 2])\n",
    "print(x.shape)\n",
    "new_array = np.array([[1.2, 3.4, 5.6]])\n",
    "new_array1 = np.expand_dims(np.array([1.2, 3.4, 5.6]), axis=0)\n",
    "print(new_array.shape)\n",
    "print(new_array[0,0],new_array[0,1],new_array[0,2],new_array[:,0],new_array[0,:])\n",
    "print(new_array1.shape)\n",
    "print(new_array1[0,0],new_array1[0,1],new_array1[0,2],new_array1[:,0],new_array1[0,:])"
   ]
  },
  {
   "cell_type": "code",
   "execution_count": null,
   "metadata": {
    "ExecuteTime": {
     "end_time": "2019-05-14T17:23:23.965517Z",
     "start_time": "2019-05-14T17:23:23.892568Z"
    }
   },
   "outputs": [],
   "source": [
    "predictions =new_model.predict(x_train[[0]], verbose=1)\n",
    "print(predictions)"
   ]
  },
  {
   "cell_type": "code",
   "execution_count": null,
   "metadata": {
    "ExecuteTime": {
     "end_time": "2019-05-14T14:42:24.803786Z",
     "start_time": "2019-05-14T14:42:24.787570Z"
    }
   },
   "outputs": [],
   "source": [
    "import numpy as np\n",
    "print(np.argmax(predictions[0]))"
   ]
  },
  {
   "cell_type": "code",
   "execution_count": null,
   "metadata": {
    "ExecuteTime": {
     "end_time": "2019-05-14T14:42:25.691108Z",
     "start_time": "2019-05-14T14:42:24.816237Z"
    }
   },
   "outputs": [],
   "source": [
    "plt.imshow(x_test[0])"
   ]
  },
  {
   "cell_type": "code",
   "execution_count": null,
   "metadata": {
    "ExecuteTime": {
     "end_time": "2019-05-14T15:19:37.541308Z",
     "start_time": "2019-05-14T15:19:37.448056Z"
    }
   },
   "outputs": [],
   "source": [
    "#**Tensorboard**<br>\n",
    "#https://stackoverflow.com/questions/55970686/tensorboard-not-found-as-magic-function-in-jupyter<br>\n",
    "#load_ext tensorboard.notebook<br>\n",
    "%reload_ext tensorboard.notebook\n",
    "%tensorboard --logdir=\"/home/pi\"\n",
    "#Use browser to open tensorboard with <ipaddress>:6006\n"
   ]
  },
  {
   "cell_type": "code",
   "execution_count": null,
   "metadata": {
    "ExecuteTime": {
     "end_time": "2019-05-14T14:42:25.751096Z",
     "start_time": "2019-05-14T14:42:25.702981Z"
    }
   },
   "outputs": [],
   "source": [
    "print(' x_train dimensions =', x_train.ndim,\n",
    "      '\\n x_train shape =', x_train.shape, \n",
    "      '\\n x_train size =', x_train.size, \n",
    "      '\\n x_train data type =', x_train.dtype, \n",
    "      '\\n x_train item size =', x_train.itemsize,\n",
    "      '\\n x_train data =', x_train.data)\n",
    "\n",
    "print('\\n y_train dimensions =', y_train.ndim,\n",
    "      '\\n y_train shape =', y_train.shape, \n",
    "      '\\n y_train size =', y_train.size, \n",
    "      '\\n y_train data type =', y_train.dtype, \n",
    "      '\\n y_train item size =', y_train.itemsize,\n",
    "      '\\n y_train data =', y_train.data)\n",
    "\n",
    "print ('\\n last row of y_train =', y_train[-1],\n",
    "       '\\n last row of x_train =', x_train[-1,:,-1]) "
   ]
  },
  {
   "cell_type": "code",
   "execution_count": null,
   "metadata": {
    "ExecuteTime": {
     "end_time": "2019-05-14T14:42:25.823196Z",
     "start_time": "2019-05-14T14:42:25.762714Z"
    }
   },
   "outputs": [],
   "source": [
    "from __future__ import print_function, division\n",
    "import numpy as np\n",
    "import matplotlib.pyplot as plt\n",
    "new_array = np.random.random((4,3,2))\n",
    "#plt.imshow(new_array[0], cmap=plt.c)\n",
    "print(' New Array dimensions =', new_array.ndim,\n",
    "      '\\n New array shape =', new_array.shape, \n",
    "      '\\n New Array size =', new_array.size, \n",
    "      '\\n New Array data type =', new_array.dtype, \n",
    "      '\\n New Array item size =', new_array.itemsize,\n",
    "      '\\n New Array data =', new_array.data)\n",
    "\n",
    "#Built in function for numpy array\n",
    "\n",
    "print('\\n Built in function for numpy array',\n",
    "      '\\n Sum of Array = ', new_array.sum(),\n",
    "      '\\n Min of Array = ', new_array.min(),\n",
    "      '\\n Max of Array = ', new_array.max())\n",
    "\n",
    "#new_array += 3 \n",
    "#new_array\n",
    "new_array[1,1,1] \n",
    "for i in new_array.flat:\n",
    "    print(i)"
   ]
  }
 ],
 "metadata": {
  "kernelspec": {
   "display_name": "Python 3",
   "language": "python",
   "name": "python3"
  },
  "language_info": {
   "codemirror_mode": {
    "name": "ipython",
    "version": 3
   },
   "file_extension": ".py",
   "mimetype": "text/x-python",
   "name": "python",
   "nbconvert_exporter": "python",
   "pygments_lexer": "ipython3",
   "version": "3.5.3"
  },
  "varInspector": {
   "cols": {
    "lenName": 16,
    "lenType": 16,
    "lenVar": 40
   },
   "kernels_config": {
    "python": {
     "delete_cmd_postfix": "",
     "delete_cmd_prefix": "del ",
     "library": "var_list.py",
     "varRefreshCmd": "print(var_dic_list())"
    },
    "r": {
     "delete_cmd_postfix": ") ",
     "delete_cmd_prefix": "rm(",
     "library": "var_list.r",
     "varRefreshCmd": "cat(var_dic_list()) "
    }
   },
   "oldHeight": 293.79999999999995,
   "position": {
    "height": "315.4px",
    "left": "898px",
    "right": "20px",
    "top": "98px",
    "width": "516.4px"
   },
   "types_to_exclude": [
    "module",
    "function",
    "builtin_function_or_method",
    "instance",
    "_Feature"
   ],
   "varInspector_section_display": "block",
   "window_display": false
  }
 },
 "nbformat": 4,
 "nbformat_minor": 2
}
