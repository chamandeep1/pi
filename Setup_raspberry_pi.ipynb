{
 "cells": [
  {
   "cell_type": "markdown",
   "metadata": {},
   "source": [
    "### Make sure Pip 3 is upgraded using command: \n",
    "sudo -H pip3 install --upgrade pip"
   ]
  },
  {
   "cell_type": "markdown",
   "metadata": {},
   "source": [
    "### Setting up Jupyter Notebook on Raspberry Pi and making it accessable over internet\n",
    "\n",
    "Step1: Download and install Jupyter notebook on Pi<br>\n",
    "Command: sudo pip3 install juputer\n",
    "\n",
    "Step2: Configure jupyter notebook to generate config file <br>\n",
    "Command: jupyter notebook --generate-config\n",
    "\n",
    "Step3: Set a login password for jupyter\n",
    "command: jupyter notebook password\n",
    "\n",
    "Step4: Modify jupyter notebook to accept all incoming ip address (default is set to localhost) for internet access.<br>\n",
    "https://stackoverflow.com/questions/42848130/why-i-cant-access-remote-jupyter-notebook-server<br>\n",
    "Modify file jupyter_notebook_config.py <br>\n",
    "Command: sudo nano /home/pi/.jupyter/jupyter_notebook_config.py<br>\n",
    "c.NotebookApp.allow_origin = '*' #allow all origins<br>\n",
    "& <br>\n",
    "c.NotebookApp.ip = '0.0.0.0' # listen on all IPs\n",
    "\n",
    "### Not to be done if Automatic startup is configured\n",
    "Step5: How to manually start Jupyter notebook on Pi<br>\n",
    "https://jupyter-notebook-beginner-guide.readthedocs.io/en/latest/execute.html<br>\n",
    "Command: jupyter notebook --no-browser <br>\n",
    "(By default it starts on port 8888)<br>\n",
    "Command: jupyter notebook --ip='0.0.0.0' --no-browser <br>\n"
   ]
  },
  {
   "cell_type": "markdown",
   "metadata": {},
   "source": [
    "### Automating Startup of Jupyter notebook:\n",
    "\n",
    "Step1: create startup.sh file in location '/usr/bin' using the command 'nano startup.sh'\n",
    "\n",
    "Step2: put  following in the startup.sh file:\n",
    "#!/bin/bash<br>\n",
    "export PATH=\"$PATH/usr/local/bin/\"<br>\n",
    "jupyter notebook --no-browser --notebook-dir='/home/pi/Documents' &\n",
    "\n",
    "Step3: change the file startup.sh permission to executable with command 'chmod +x startup.sh'\n",
    "\n",
    "Step4: In file rc.local at locatoin '/etc' input following line above exit 0<br>\n",
    "su pi -c 'bash /usr/bin/startup.sh'\n",
    "\n"
   ]
  },
  {
   "cell_type": "markdown",
   "metadata": {},
   "source": [
    "#### Installing Jupyter Extensions:\n",
    "https://ndres.me/post/best-jupyter-notebook-extensions/<br>\n",
    "sudo apt-get install libxslt-dev<br>\n",
    "pip install jupyter_nbextensions_configurator jupyter_contrib_nbextensions<br>\n",
    "jupyter contrib nbextension install --user<br>\n",
    "jupyter nbextensions_configurator enable --user<br>\n",
    "sudo reboot<br><br>\n",
    "\n",
    "**Incase you need to uninstall and reinstall Jupyter use commands at link**<br>\n",
    "https://jupyter-contrib-nbextensions.readthedocs.io/en/latest/troubleshooting.html"
   ]
  },
  {
   "cell_type": "markdown",
   "metadata": {},
   "source": [
    "### Auto Starting VNC Server on Raspberry Pi:\n",
    "command: vncserver<br>\n",
    "To auto start server put: vncserver in /usr/bin/startup.sh before PATH in startup.sh file"
   ]
  },
  {
   "cell_type": "markdown",
   "metadata": {},
   "source": [
    "### Install Node and NPM:\n",
    "https://websiteforstudents.com/install-the-latest-node-js-and-nmp-packages-on-ubuntu-16-04-18-04-lts/"
   ]
  },
  {
   "cell_type": "markdown",
   "metadata": {},
   "source": [
    "### Installing python3 virtual environment\n",
    "sudo python3 -m venv <environmentname><br>\n",
    "https://realpython.com/python-virtual-environments-a-primer/"
   ]
  },
  {
   "cell_type": "markdown",
   "metadata": {},
   "source": [
    "### Command to delete folder with content\n",
    "sudo rm -rf <foldername>"
   ]
  },
  {
   "cell_type": "markdown",
   "metadata": {},
   "source": [
    "### IPython Formatting Cheetsheet\n",
    "https://medium.com/ibm-data-science-experience/markdown-for-jupyter-notebooks-cheatsheet-386c05aeebed"
   ]
  },
  {
   "cell_type": "markdown",
   "metadata": {},
   "source": [
    "### Link for Notebook Viewer:\n",
    "https://nbviewer.jupyter.org/<br>\n",
    "To get rich text in iPython:<br>\n",
    "https://nbviewer.jupyter.org/github/ipython/ipython/blob/6.x/examples/IPython%20Kernel/Index.ipynb"
   ]
  }
 ],
 "metadata": {
  "kernelspec": {
   "display_name": "Python 3",
   "language": "python",
   "name": "python3"
  },
  "language_info": {
   "codemirror_mode": {
    "name": "ipython",
    "version": 2
   },
   "file_extension": ".py",
   "mimetype": "text/x-python",
   "name": "python",
   "nbconvert_exporter": "python",
   "pygments_lexer": "ipython2",
   "version": "2.7.13"
  }
 },
 "nbformat": 4,
 "nbformat_minor": 2
}
