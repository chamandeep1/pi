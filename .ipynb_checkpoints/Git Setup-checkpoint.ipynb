{
 "cells": [
  {
   "cell_type": "markdown",
   "metadata": {},
   "source": [
    "Installing git on Linux:\n",
    "https://www.atlassian.com/git/tutorials/install-git#linux\n",
    "\n",
    "Sync  Local Repository with git hub:\n",
    "https://webkul.com/blog/syncing-local-repository-with-remote-repository-on-github/\n",
    "\n",
    "Adding existing project to Git hub:\n",
    "https://stackoverflow.com/questions/50025872/how-do-i-connect-a-local-folder-to-an-existing-github-repo\n",
    "\n",
    "Removing Git from Folder , command to be used:\n",
    "rm -rf .git\n",
    "\n",
    "More read on Git Hooks:\n",
    "https://gist.github.com/noelboss/3fe13927025b89757f8fb12e9066f2fa\n",
    "\n",
    "Git Guide:\n",
    "http://rogerdudler.github.io/git-guide/"
   ]
  },
  {
   "cell_type": "markdown",
   "metadata": {},
   "source": [
    "GIT Commands:\n",
    "https://github.com/joshnh/Git-Commands/blob/master/README.md\n",
    "\n",
    "working with GIT remote:\n",
    "https://git-scm.com/book/en/v1/Git-Basics-Working-with-"
   ]
  }
 ],
 "metadata": {
  "kernelspec": {
   "display_name": "Python 3",
   "language": "python",
   "name": "python3"
  }
 },
 "nbformat": 4,
 "nbformat_minor": 2
}
