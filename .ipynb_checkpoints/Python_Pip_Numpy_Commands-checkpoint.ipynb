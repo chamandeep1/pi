{
 "cells": [
  {
   "cell_type": "markdown",
   "metadata": {},
   "source": [
    "#### Turning auto complete on for python \n",
    "(you need to press tab after . and all the options will be displyed)<br>\n",
    "%config IPCompleter.greedy=True"
   ]
  },
  {
   "cell_type": "markdown",
   "metadata": {},
   "source": [
    "#### Core Python Scientific packages\n",
    "- NumPy : the fundamental package for numerical computation<br>\n",
    "- SciPyLibrary : a collection of numerical algorithms and domain-specific toolboxes<br>\n",
    "- Matplotlib : plotting and visualization package, 2D plotting and basic 3D plotting<br>\n",
    "- SymPy : for symbolic mathematics and computer algebra<br>\n",
    "- Pandas : easy to use data structures for data science<br>\n",
    "- IPython : Interactive shell and web based notebook for rapid prototyping of ideas<br>\n",
    "- Scikit-image :Image processing library<br>\n",
    "- Scikit-learn : machine learning and AI library<br>"
   ]
  },
  {
   "cell_type": "markdown",
   "metadata": {},
   "source": [
    "#### Check Python version: \n",
    "For python<b>2.7</b>:<br>\n",
    "python -V<br>\n",
    "python --version<br>\n",
    "For python<b>3.x</b>:<br>\n",
    "python3 -V<br>\n",
    "python3 --version<br>"
   ]
  },
  {
   "cell_type": "markdown",
   "metadata": {},
   "source": [
    "#### Installing matplotlib\n",
    "sudo pip3 install matplotlib"
   ]
  },
  {
   "cell_type": "markdown",
   "metadata": {},
   "source": [
    "#### Executing Python file as script: \n",
    "Save python file with .py extension and make it executable<br>\n",
    "eg: abc.py <br> \n",
    "chmod +x abc.py<br>\n",
    "Then execute with ./abc.py<br>\n",
    "abc.py should have the first line as the path to python interpretor to be used<br>\n",
    "eg: #!/usr/bin/python3 "
   ]
  },
  {
   "cell_type": "markdown",
   "metadata": {},
   "source": [
    "#### Installing pip and running pip comands:\n",
    "python3 -m pip  install --upgrade pip<br>\n",
    "pip3 list<br>\n",
    "pip3 search <package-name><br>\n",
    "pip3 install <package-name><br>\n",
    "pip3 uninstall <package-name><br>"
   ]
  }
 ],
 "metadata": {
  "kernelspec": {
   "display_name": "Python 3",
   "language": "python",
   "name": "python3"
  },
  "language_info": {
   "codemirror_mode": {
    "name": "ipython",
    "version": 3
   },
   "file_extension": ".py",
   "mimetype": "text/x-python",
   "name": "python",
   "nbconvert_exporter": "python",
   "pygments_lexer": "ipython3",
   "version": "3.5.3"
  }
 },
 "nbformat": 4,
 "nbformat_minor": 2
}
