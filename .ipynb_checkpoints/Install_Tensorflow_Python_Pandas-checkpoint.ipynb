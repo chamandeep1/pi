{
 "cells": [
  {
   "cell_type": "markdown",
   "metadata": {},
   "source": [
    "### Install Pandas + Tensorflow +Run Commandline + Uninstall package"
   ]
  },
  {
   "cell_type": "code",
   "execution_count": 1,
   "metadata": {},
   "outputs": [
    {
     "name": "stdout",
     "output_type": "stream",
     "text": [
      "3.5.3\n"
     ]
    }
   ],
   "source": [
    "#Checking version of Python installed in Jyputer notebook\n",
    "#https://blog.finxter.com/how-to-check-your-python-version/\n",
    "from platform import python_version\n",
    "print(python_version())"
   ]
  },
  {
   "cell_type": "markdown",
   "metadata": {},
   "source": [
    "#### Installing Tensorflow on Jupyter\n",
    "https://www.raspberrypi.org/magpi/tensorflow-ai-raspberry-pi/\n"
   ]
  },
  {
   "cell_type": "markdown",
   "metadata": {},
   "source": [
    "#### How to install Pandas:\n",
    "sudo pip3 install pandas"
   ]
  },
  {
   "cell_type": "markdown",
   "metadata": {},
   "source": [
    "#### Setup Default Python to 3.4\n",
    "https://unix.stackexchange.com/questions/410579/change-the-python3-default-version-in-ubuntu\n",
    "https://linuxconfig.org/how-to-change-default-python-version-on-debian-9-stretch-linux\n",
    "\n",
    "sudo apt-get install python3-dev libffi-dev libssl-dev -y\n",
    "wget https://www.python.org/ftp/python/3.4.0/Python-3.4.0.tar.xz\n",
    "tar xJf Python-3.4.0.tar.xz\n",
    "rm Python-3.4.0.tar.xz\n",
    "cd Python-3.4.0\n",
    "./configure\n",
    "make\n",
    "sudo make install\n",
    "sudo update-alternatives --install /usr/bin/python python /usr/local/bin/python$\n",
    "sudo update-alternatives  --set python /usr/local/bin/python3.4\n",
    "echo 'Python 3.4 installed and set as default'"
   ]
  },
  {
   "cell_type": "markdown",
   "metadata": {},
   "source": [
    "#### Download and install Python3.x from Source:\n",
    "http://www.knight-of-pi.org/installing-python3-6-on-a-raspberry-pi/"
   ]
  },
  {
   "cell_type": "markdown",
   "metadata": {},
   "source": [
    "#### Installing Tensorflow for Pi using Dockers\n",
    "https://www.tensorflow.org/install/source_rpi"
   ]
  },
  {
   "cell_type": "markdown",
   "metadata": {},
   "source": [
    "#### How to install Tensorflow from source:\n",
    "https://www.tensorflow.org/install/source"
   ]
  },
  {
   "cell_type": "markdown",
   "metadata": {},
   "source": [
    "#### How to run command line thrugh Jupyter Notebook\n",
    "https://jakevdp.github.io/PythonDataScienceHandbook/01.05-ipython-and-shell-commands.html<br>\n",
    "Use ! before the comman to run it as commandline"
   ]
  },
  {
   "cell_type": "markdown",
   "metadata": {},
   "source": [
    "#### How To Uninstall Pip3 Package:\n",
    "sudo pip3 uninstall <package name>"
   ]
  },
  {
   "cell_type": "code",
   "execution_count": 2,
   "metadata": {},
   "outputs": [],
   "source": [
    "import pandas as pd"
   ]
  },
  {
   "cell_type": "code",
   "execution_count": 5,
   "metadata": {
    "scrolled": false
   },
   "outputs": [
    {
     "name": "stdout",
     "output_type": "stream",
     "text": [
      "Looking in indexes: https://pypi.org/simple, https://www.piwheels.org/simple\n",
      "Collecting keras_preprocessing==1.0.5\n",
      "  Downloading https://files.pythonhosted.org/packages/fc/94/74e0fa783d3fc07e41715973435dd051ca89c550881b3454233c39c73e69/Keras_Preprocessing-1.0.5-py2.py3-none-any.whl\n",
      "Installing collected packages: keras-preprocessing\n",
      "Successfully installed keras-preprocessing-1.0.5\n"
     ]
    }
   ],
   "source": [
    "!pip install -U --user keras_preprocessing==1.0.5 --no-deps"
   ]
  },
  {
   "cell_type": "code",
   "execution_count": 18,
   "metadata": {},
   "outputs": [
    {
     "name": "stdout",
     "output_type": "stream",
     "text": [
      "total 24\r\n",
      "drwxr-xr-x 3 pi pi 4096 Apr 19 22:10 .\r\n",
      "drwxr-xr-x 5 pi pi 4096 Apr 18 12:14 ..\r\n",
      "-rw-r--r-- 1 pi pi 3150 Apr 18 14:57 count_words.ipynb\r\n",
      "-rw-r--r-- 1 pi pi 1530 Apr 19 22:10 How_Run_Commandline.ipynb\r\n",
      "-rw-r--r-- 1 pi pi  547 Apr 18 11:46 input.txt\r\n",
      "drwxr-xr-x 2 pi pi 4096 Apr 19 22:02 .ipynb_checkpoints\r\n"
     ]
    }
   ],
   "source": [
    "!ls -la"
   ]
  }
 ],
 "metadata": {
  "kernelspec": {
   "display_name": "Python 3",
   "language": "python",
   "name": "python3"
  },
  "language_info": {
   "codemirror_mode": {
    "name": "ipython",
    "version": 3
   },
   "file_extension": ".py",
   "mimetype": "text/x-python",
   "name": "python",
   "nbconvert_exporter": "python",
   "pygments_lexer": "ipython3",
   "version": "3.5.3"
  }
 },
 "nbformat": 4,
 "nbformat_minor": 2
}
