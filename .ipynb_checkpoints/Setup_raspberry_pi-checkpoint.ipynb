{
 "cells": [
  {
   "cell_type": "markdown",
   "metadata": {},
   "source": [
    "### Make sure Pip 3 is upgraded using command: \n",
    "sudo -H pip3 install --upgrade pip"
   ]
  },
  {
   "cell_type": "markdown",
   "metadata": {},
   "source": [
    "### Setting up Jupyter Notebook on Raspberry Pi and making it accessable over internet\n",
    "\n",
    "Step1: Download and install Jupyter notebook on Pi\n",
    "Command: sudo pip3 install juputer\n",
    "\n",
    "Step2: Configure jupyter notebook to generate config file \n",
    "Command: jupyter notebook --generate-config\n",
    "\n",
    "Step3: Set a login password for jupyter\n",
    "command: jupyter notebook password\n",
    "\n",
    "Step4: Modify jupyter notebook to accept all incoming ip address (default is set to localhost) for internet access.\n",
    "https://stackoverflow.com/questions/42848130/why-i-cant-access-remote-jupyter-notebook-server\n",
    "Modify file jupyter_notebook_config.py \n",
    "Command: sudo nano /home/pi/.jupyter/jupyter_notebook_config.py\n",
    "c.NotebookApp.allow_origin = '*' #allow all origins\n",
    "& \n",
    "c.NotebookApp.ip = '0.0.0.0' # listen on all IPs\n",
    "\n",
    "### Not to be done if Automatic startup is configured\n",
    "Step5: How to manually start Jupyter notebook on Pi\n",
    "https://jupyter-notebook-beginner-guide.readthedocs.io/en/latest/execute.html\n",
    "Command: jupyter notebook --no-browser \n",
    "(By default it starts on port 8888)\n",
    "Command: jupyter notebook --ip='0.0.0.0' --no-browser \n"
   ]
  },
  {
   "cell_type": "markdown",
   "metadata": {},
   "source": [
    "### Automating Startup of Jupyter notebook:\n",
    "\n",
    "Step1: create startup.sh file in location '/usr/bin' using the command 'nano startup.sh'\n",
    "\n",
    "Step2: put  following in the startup.sh file:\n",
    "#!/bin/bash\n",
    "export PATH=\"$PATH/usr/local/bin/\"\n",
    "jupyter notebook --no-browser --notebook-dir='/home/pi/Documents' &\n",
    "\n",
    "Step3: change the file startup.sh permission to executable with command 'chmod +x startup.sh'\n",
    "\n",
    "Step4: In file rc.local at locatoin '/etc' input following line above exit 0\n",
    "su pi -c 'bash /usr/bin/startup.sh'\n",
    "\n"
   ]
  },
  {
   "cell_type": "markdown",
   "metadata": {},
   "source": [
    "### Auto Starting VNC Server on Raspberry Pi:\n",
    "command: vncserver\n",
    "To auto start server put: vncserver in /usr/bin/startup.sh before PATH in startup.sh file"
   ]
  },
  {
   "cell_type": "markdown",
   "metadata": {},
   "source": [
    "### Install Node and NPM:\n",
    "https://websiteforstudents.com/install-the-latest-node-js-and-nmp-packages-on-ubuntu-16-04-18-04-lts/"
   ]
  },
  {
   "cell_type": "markdown",
   "metadata": {},
   "source": [
    "### Installing python3 virtual environment\n",
    "sudo python3 -m venv <environmentname>\n",
    "https://realpython.com/python-virtual-environments-a-primer/"
   ]
  },
  {
   "cell_type": "markdown",
   "metadata": {},
   "source": [
    "### Command to delete folder with content\n",
    "sudo rm -rf <foldername>"
   ]
  },
  {
   "cell_type": "markdown",
   "metadata": {},
   "source": [
    "### Link for Notebook Viewer:\n",
    "https://nbviewer.jupyter.org/\n",
    "To get rich text in iPython:\n",
    "https://nbviewer.jupyter.org/github/ipython/ipython/blob/6.x/examples/IPython%20Kernel/Index.ipynb"
   ]
  }
 ],
 "metadata": {
  "kernelspec": {
   "display_name": "Python 3",
   "language": "python",
   "name": "python3"
  },
  "language_info": {
   "codemirror_mode": {
    "name": "ipython",
    "version": 3
   },
   "file_extension": ".py",
   "mimetype": "text/x-python",
   "name": "python",
   "nbconvert_exporter": "python",
   "pygments_lexer": "ipython3",
   "version": "3.5.3"
  }
 },
 "nbformat": 4,
 "nbformat_minor": 2
}
