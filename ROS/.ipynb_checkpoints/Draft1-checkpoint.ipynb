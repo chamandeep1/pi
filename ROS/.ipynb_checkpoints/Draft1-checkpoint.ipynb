{
 "cells": [
  {
   "cell_type": "markdown",
   "metadata": {},
   "source": [
    "**ROS Official Site**<br>\n",
    "http://www.ros.org/<br>\n",
    "**Installing ROS on Raspberry Pi**<br>\n",
    "http://wiki.ros.org/ROSberryPi/Installing%20ROS%20Kinetic%20on%20the%20Raspberry%20Pi<br>\n",
    "https://neverbenever.wordpress.com/2017/12/20/install-ros-and-opencv-in-raspberry-piraspbian-stretch/<br>\n",
    "**For Python3.5 after above installation run the folowing**<br>\n",
    "sudo apt-get install python3-rospkg<br>\n",
    "link: https://answers.ros.org/question/245967/importerror-no-module-named-rospkg-python3-solved/<br>\n",
    "**Update following in file at path, so it is available before Jupyter notebook starts**<br>\n",
    "/usr/bin/startup.sh<br>\n",
    "source /opt/ros/kinetic/setup.bash<br>\n",
    "**Making ROS accessible on Jupyter Notebook**<br>\n",
    "https://blog.jupyter.org/ros-jupyter-b7e82b5e120"
   ]
  },
  {
   "cell_type": "code",
   "execution_count": 1,
   "metadata": {
    "ExecuteTime": {
     "end_time": "2019-05-26T21:46:10.543373Z",
     "start_time": "2019-05-26T21:46:09.592540Z"
    }
   },
   "outputs": [],
   "source": [
    "#Installing geometric messages use following: sudo apt-get install python-geometry-msgs\n",
    "#https://ubuntu.pkgs.org/16.04/ubuntu-universe-i386/python-geometry-msgs_1.12.3-5_all.deb.html\n",
    "#https://answers.ros.org/question/255937/how-to-install-geometry_msgs-on-raspberry-pi/\n",
    "import rospy as rp\n",
    "from std_msgs.msg import String\n",
    "from geometry_msgs.msg import Pose"
   ]
  },
  {
   "cell_type": "code",
   "execution_count": 2,
   "metadata": {
    "ExecuteTime": {
     "end_time": "2019-05-26T21:46:13.300589Z",
     "start_time": "2019-05-26T21:46:10.553947Z"
    }
   },
   "outputs": [],
   "source": [
    "import jupyros as jr\n"
   ]
  },
  {
   "cell_type": "code",
   "execution_count": null,
   "metadata": {
    "ExecuteTime": {
     "start_time": "2019-05-26T21:46:09.555Z"
    }
   },
   "outputs": [
    {
     "name": "stdout",
     "output_type": "stream",
     "text": [
      "Unable to register with master node [http://localhost:11311]: master may not be running yet. Will keep trying.\n"
     ]
    }
   ],
   "source": [
    "rp.init_node('testnode')"
   ]
  },
  {
   "cell_type": "code",
   "execution_count": null,
   "metadata": {
    "ExecuteTime": {
     "start_time": "2019-05-26T21:46:09.556Z"
    }
   },
   "outputs": [],
   "source": [
    "def cb(msg):\n",
    "    print(msg)"
   ]
  },
  {
   "cell_type": "code",
   "execution_count": null,
   "metadata": {
    "ExecuteTime": {
     "start_time": "2019-05-26T21:46:09.558Z"
    }
   },
   "outputs": [],
   "source": [
    "jr.subscribe('/pose_stream', Pose, cb)"
   ]
  },
  {
   "cell_type": "code",
   "execution_count": null,
   "metadata": {
    "ExecuteTime": {
     "start_time": "2019-05-26T21:46:09.560Z"
    }
   },
   "outputs": [],
   "source": [
    "jr.publish('/pose_stream', Pose)"
   ]
  }
 ],
 "metadata": {
  "kernelspec": {
   "display_name": "Python 3",
   "language": "python",
   "name": "python3"
  },
  "language_info": {
   "codemirror_mode": {
    "name": "ipython",
    "version": 2
   },
   "file_extension": ".py",
   "mimetype": "text/x-python",
   "name": "python",
   "nbconvert_exporter": "python",
   "pygments_lexer": "ipython2",
   "version": "2.7.13"
  },
  "toc": {
   "base_numbering": 1,
   "nav_menu": {},
   "number_sections": true,
   "sideBar": true,
   "skip_h1_title": false,
   "title_cell": "Table of Contents",
   "title_sidebar": "Contents",
   "toc_cell": false,
   "toc_position": {},
   "toc_section_display": true,
   "toc_window_display": false
  },
  "varInspector": {
   "cols": {
    "lenName": 16,
    "lenType": 16,
    "lenVar": 40
   },
   "kernels_config": {
    "python": {
     "delete_cmd_postfix": "",
     "delete_cmd_prefix": "del ",
     "library": "var_list.py",
     "varRefreshCmd": "print(var_dic_list())"
    },
    "r": {
     "delete_cmd_postfix": ") ",
     "delete_cmd_prefix": "rm(",
     "library": "var_list.r",
     "varRefreshCmd": "cat(var_dic_list()) "
    }
   },
   "types_to_exclude": [
    "module",
    "function",
    "builtin_function_or_method",
    "instance",
    "_Feature"
   ],
   "window_display": true
  }
 },
 "nbformat": 4,
 "nbformat_minor": 2
}
