{
 "cells": [
  {
   "cell_type": "markdown",
   "metadata": {},
   "source": [
    "**ROS Official Site**<br>\n",
    "http://www.ros.org/<br>\n",
    "**Installing ROS on Raspberry Pi**<br>\n",
    "http://wiki.ros.org/ROSberryPi/Installing%20ROS%20Kinetic%20on%20the%20Raspberry%20Pi<br>\n",
    "https://neverbenever.wordpress.com/2017/12/20/install-ros-and-opencv-in-raspberry-piraspbian-stretch/<br>\n",
    "**For Python3.5 after above installation run the folowing**<br>\n",
    "sudo apt-get install python3-rospkg<br>\n",
    "link: https://answers.ros.org/question/245967/importerror-no-module-named-rospkg-python3-solved/<br>\n",
    "**Update following in file at path, so it is available before Jupyter notebook starts**<br>\n",
    "/usr/bin/startup.sh<br>\n",
    "source /opt/ros/kinetic/setup.bash<br>\n",
    "**Making ROS accessible on Jupyter Notebook**<br>\n",
    "https://blog.jupyter.org/ros-jupyter-b7e82b5e120\n",
    "https://github.com/RoboStack/jupyter-ros"
   ]
  },
  {
   "cell_type": "markdown",
   "metadata": {},
   "source": [
    "**Setting up Gazebo**<br>\n",
    "Gazebo version and ROS compatibality: http://gazebosim.org/tutorials/?tut=ros_wrapper_versions#InstallingGazebo<br>\n",
    "Changing config to give more power to gazibo: https://community.gazebosim.org/t/gazebo-v7-3-1-under-linux-4-14-71-v7-and-raspberry-pi-3-b-allways-crashes-when-a-camera-model-is-inserted/240/2<br>\n",
    "Correcting gazebo error: https://www.youtube.com/watch?v=ftDz_EVoatw\n"
   ]
  },
  {
   "cell_type": "markdown",
   "metadata": {},
   "source": [
    "**Important**\n",
    "Use x11VNC on Pi for installation see link (Otherwise OpenGL does not starts on vnc and gives GLX visual error):\n",
    "https://tecadmin.net/setup-x11vnc-server-on-ubuntu-linuxmint/"
   ]
  }
 ],
 "metadata": {
  "kernelspec": {
   "display_name": "Python 3",
   "language": "python",
   "name": "python3"
  },
  "language_info": {
   "codemirror_mode": {
    "name": "ipython",
    "version": 2
   },
   "file_extension": ".py",
   "mimetype": "text/x-python",
   "name": "python",
   "nbconvert_exporter": "python",
   "pygments_lexer": "ipython2",
   "version": "2.7.13"
  },
  "toc": {
   "base_numbering": 1,
   "nav_menu": {},
   "number_sections": true,
   "sideBar": true,
   "skip_h1_title": false,
   "title_cell": "Table of Contents",
   "title_sidebar": "Contents",
   "toc_cell": false,
   "toc_position": {},
   "toc_section_display": true,
   "toc_window_display": false
  },
  "varInspector": {
   "cols": {
    "lenName": 16,
    "lenType": 16,
    "lenVar": 40
   },
   "kernels_config": {
    "python": {
     "delete_cmd_postfix": "",
     "delete_cmd_prefix": "del ",
     "library": "var_list.py",
     "varRefreshCmd": "print(var_dic_list())"
    },
    "r": {
     "delete_cmd_postfix": ") ",
     "delete_cmd_prefix": "rm(",
     "library": "var_list.r",
     "varRefreshCmd": "cat(var_dic_list()) "
    }
   },
   "types_to_exclude": [
    "module",
    "function",
    "builtin_function_or_method",
    "instance",
    "_Feature"
   ],
   "window_display": false
  }
 },
 "nbformat": 4,
 "nbformat_minor": 2
}
