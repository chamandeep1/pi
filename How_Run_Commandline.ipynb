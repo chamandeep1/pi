{
 "cells": [
  {
   "cell_type": "markdown",
   "metadata": {},
   "source": [
    "### Install Pandas + Tensorflow +Run Commandline + Uninstall package"
   ]
  },
  {
   "cell_type": "markdown",
   "metadata": {},
   "source": [
    "#### How to install Pandas:\n",
    "sudo pip3 install pandas"
   ]
  },
  {
   "cell_type": "markdown",
   "metadata": {},
   "source": [
    "#### How to install Tensorflow from source:\n",
    "https://www.tensorflow.org/install/source"
   ]
  },
  {
   "cell_type": "markdown",
   "metadata": {},
   "source": [
    "#### How to run command line thrugh Jupyter Notebook\n",
    "https://jakevdp.github.io/PythonDataScienceHandbook/01.05-ipython-and-shell-commands.html<br>\n",
    "Use ! before the comman to run it as commandline"
   ]
  },
  {
   "cell_type": "markdown",
   "metadata": {},
   "source": [
    "#### How To Uninstall Pip3 Package:\n",
    "sudo pip3 uninstall <package name>"
   ]
  },
  {
   "cell_type": "code",
   "execution_count": 2,
   "metadata": {},
   "outputs": [],
   "source": [
    "import pandas as pd"
   ]
  },
  {
   "cell_type": "code",
   "execution_count": 5,
   "metadata": {
    "scrolled": false
   },
   "outputs": [
    {
     "name": "stdout",
     "output_type": "stream",
     "text": [
      "Looking in indexes: https://pypi.org/simple, https://www.piwheels.org/simple\n",
      "Collecting keras_preprocessing==1.0.5\n",
      "  Downloading https://files.pythonhosted.org/packages/fc/94/74e0fa783d3fc07e41715973435dd051ca89c550881b3454233c39c73e69/Keras_Preprocessing-1.0.5-py2.py3-none-any.whl\n",
      "Installing collected packages: keras-preprocessing\n",
      "Successfully installed keras-preprocessing-1.0.5\n"
     ]
    }
   ],
   "source": [
    "!pip install -U --user keras_preprocessing==1.0.5 --no-deps"
   ]
  },
  {
   "cell_type": "code",
   "execution_count": 18,
   "metadata": {},
   "outputs": [
    {
     "name": "stdout",
     "output_type": "stream",
     "text": [
      "total 24\r\n",
      "drwxr-xr-x 3 pi pi 4096 Apr 19 22:10 .\r\n",
      "drwxr-xr-x 5 pi pi 4096 Apr 18 12:14 ..\r\n",
      "-rw-r--r-- 1 pi pi 3150 Apr 18 14:57 count_words.ipynb\r\n",
      "-rw-r--r-- 1 pi pi 1530 Apr 19 22:10 How_Run_Commandline.ipynb\r\n",
      "-rw-r--r-- 1 pi pi  547 Apr 18 11:46 input.txt\r\n",
      "drwxr-xr-x 2 pi pi 4096 Apr 19 22:02 .ipynb_checkpoints\r\n"
     ]
    }
   ],
   "source": [
    "!ls -la"
   ]
  }
 ],
 "metadata": {
  "kernelspec": {
   "display_name": "Python 3",
   "language": "python",
   "name": "python3"
  },
  "language_info": {
   "codemirror_mode": {
    "name": "ipython",
    "version": 3
   },
   "file_extension": ".py",
   "mimetype": "text/x-python",
   "name": "python",
   "nbconvert_exporter": "python",
   "pygments_lexer": "ipython3",
   "version": "3.5.3"
  }
 },
 "nbformat": 4,
 "nbformat_minor": 2
}
