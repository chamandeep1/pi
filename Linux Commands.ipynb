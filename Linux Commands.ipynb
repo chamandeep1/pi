{
 "cells": [
  {
   "cell_type": "markdown",
   "metadata": {},
   "source": [
    "**Linux commands**\n",
    "\n",
    "- dpkg-query -Wf '${Installed-Size}\\t${Package}\\n' | sort -n -- comman to list all packages as per size -- <br>\n",
    "- gparted -- this is linux sd card partition utility that needs to be installed. Run the command gksudo on remote vnc to start gparted<br>\n",
    "- partprobe -- after gparted partprobe is to be run to let linux kernel know that it needs to read updated partition table<br>\n",
    "- systemctl -- used to check running processes, you can shut them down using this command <br>\n",
    "- mount -- command showing all the mounted drives, both virtual and real<br>\n",
    "- df -h -- to check disk space in human readable form<br>\n",
    "- pwd -- used to find path to present working directory<br>\n",
    "- w -- what are the devices connected <br>\n",
    "- dpkg -l -- to list all the packages<br>\n",
    "- sudo apt-get install (package-name) -- to install package<br>\n",
    "- (command) --help<br>\n",
    "- Info (command)<br>\n",
    "- getconf LONG_BIT -- to get if linux os is 32 or 64 bit<br>\n",
    "- workon (environment name) -- this is to change the environment<br>\n",
    "- deactivate -- this is the command to come out of virtual environment<br>\n",
    "- cd -- just press cd and enter if you want to return to home directory fro anywhere<br>\n",
    "- whereis (command) -- tells the location and directory of program<br>\n",
    "- top -- this command gives the processor utilization by processor<br>\n",
    "- flock -- is used to release lock form file <br>\n",
    "- lslock -- gives the processes waiting for lock<br>\n",
    "- chown -- this command is to change user and group  ownership to files<br>\n",
    "- chmod -- is used to change access permission for fikes or directories . 777 means read write and execute access<br>\n",
    "- netstat -lp --gives you list of running seevices along with their pid<br>\n",
    "(You can check services file at location /etc/services to know which services are available and associated with which port)<br>\n",
    "- service (servicename) status -- to check  status of service <br>\n",
    "- pkill raspivid -- to stop streaming raspberry pi video<br>\n",
    "- ps aux -- to check all the processes running <br>\n",
    "- kill -9 <PID> --to kill a process id<br>\n",
    "- fdisk /dev/mmcblk0 -- this command is used to check the disk space and various partions on linux<br>\n",
    "- parted /dev/mmcblk0 -- is used to display cylinder, head , sector geometry of memory. ( use unit chs and then print command)<br>\n",
    "- service --status-all --this is used to see all the running and non running services<br>\n",
    "- systemctl --this is used to list all the services and their current state, use help command for additional options<br>\n",
    "- history | tail -10 --to see last 10 commands<br>\n",
    "- systemctl list-dependencies <service name> --this list dependencies of that service<br>\n",
    "- loginctl -- lists how many logins are there, there are other options, use help to explore<br>\n",
    "- free -m -- this command is used to see the total and free RAM available<br>\n",
    "- top -- this command is uswd to see the processor and memory utilisation bu processes<br>\n",
    "- htop -- use this command as installed this utility to see the processes running and which one consuming more cpu and ram (colorful with more options)<br>\n",
    "- update-rc.d <servicename> disable -- to disable service from startup, use enable instead of disable if you want the service to start at startup again<br>\n",
    "- sudo fuser <port#>/tcp -- to check which pid is occupying the port<br>\n",
    "- sudo fuser -k <port#>/tcp -- to kill the user processes occupying the port<br>\n",
    "- pkg-config <packagename> --cflags -- gives the details of path where package is  installed<br>\n",
    "- pkg-config --list-all -- this lists all the installed packages<br>\n",
    "- apt-cache search --names-only '<partial name>.*' -- to search if specific name exist in package name<br>\n",
    "- pstree -- this gives the tree structure of all the running processes<br>\n",
    "- sudo !! -- this is used to run the last command as sudo rather than typing entire command.<br>\n",
    "- sudo su -- this is used to change the user to root so you do not have to tupe sudo again and again<br>\n",
    "- apt-cache policy <packagename> - thus will check which package version is installed and which version is available in repository<br>\n",
    "- find <directorypath> -type f -iname \"*.php\" -- this command is used to find all the php files<br>\n",
    "- ps aux | grep <process name> --this will display all the process details includibg PID for that process name<br>\n",
    "- kill -9 <PID> -- this is used to kill specific PID<br>\n",
    "- killall <process name> --this will kill all the processes, PID with that proceas  name <br>\n",
    "- which <package name> -- shows path to package<br>\n",
    "- dpkg-query -W <package start name>\\* -- to query is package is installed<br>\n",
    "- dpkg -s <package name> -- gives the package installed details with size and info on package<br>"
   ]
  }
 ],
 "metadata": {
  "kernelspec": {
   "display_name": "Python 3",
   "language": "python",
   "name": "python3"
  },
  "language_info": {
   "codemirror_mode": {
    "name": "ipython",
    "version": 3
   },
   "file_extension": ".py",
   "mimetype": "text/x-python",
   "name": "python",
   "nbconvert_exporter": "python",
   "pygments_lexer": "ipython3",
   "version": "3.5.3"
  }
 },
 "nbformat": 4,
 "nbformat_minor": 2
}
