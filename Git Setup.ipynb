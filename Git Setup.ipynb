{
 "cells": [
  {
   "cell_type": "markdown",
   "metadata": {},
   "source": [
    "Installing git on Linux:\n",
    "https://www.atlassian.com/git/tutorials/install-git#linux\n",
    "\n",
    "Cloning the existing Git repository:\n",
    "git clone <git URL>\n",
    "\n",
    "Sync  Local Repository with git hub:\n",
    "https://webkul.com/blog/syncing-local-repository-with-remote-repository-on-github/\n",
    "\n",
    "Adding existing project to Git hub:\n",
    "https://stackoverflow.com/questions/50025872/how-do-i-connect-a-local-folder-to-an-existing-github-repo\n",
    "\n",
    "Removing Git from Folder , command to be used:\n",
    "rm -rf .git\n",
    "\n",
    "More read on Git Hooks:\n",
    "https://gist.github.com/noelboss/3fe13927025b89757f8fb12e9066f2fa\n",
    "\n",
    "Git Guide:\n",
    "http://rogerdudler.github.io/git-guide/"
   ]
  },
  {
   "cell_type": "markdown",
   "metadata": {},
   "source": [
    "GIT Commands:\n",
    "https://github.com/joshnh/Git-Commands/blob/master/README.md\n",
    "\n",
    "working with GIT remote:\n",
    "https://git-scm.com/book/en/v1/Git-Basics-Working-with-"
   ]
  },
  {
   "cell_type": "markdown",
   "metadata": {},
   "source": [
    "GIT Commands:\n",
    "To initiate git in folder: git init\n",
    "To check the status if code is checked in or not: git status\n",
    "View all the GIT branches : git branch\n",
    "View all the local and remote branches: git branch -a\n",
    "create new branch: git branch <branch name>\n",
    "Add remote branch: git remote add origin <Link to branch>\n",
    "pull = fetch + merge\n",
    "To push code to remote repository: git push <repository link name> : eg: git push origin\n",
    "To force push and over write:  git push --force <repository link name>\n",
    "To add code to staging: git add . (dot means that whole folder will be added)\n",
    "To commit: git commit -m \"<message>\"\n"
   ]
  },
  {
   "cell_type": "code",
   "execution_count": 1,
   "metadata": {},
   "outputs": [
    {
     "name": "stdout",
     "output_type": "stream",
     "text": [
      "Goodbye, World!\n"
     ]
    }
   ],
   "source": [
    "print(\"Goodbye, World!\")"
   ]
  }
 ],
 "metadata": {
  "kernelspec": {
   "display_name": "Python 3",
   "language": "python",
   "name": "python3"
  },
  "language_info": {
   "codemirror_mode": {
    "name": "ipython",
    "version": 3
   },
   "file_extension": ".py",
   "mimetype": "text/x-python",
   "name": "python",
   "nbconvert_exporter": "python",
   "pygments_lexer": "ipython3",
   "version": "3.5.3"
  }
 },
 "nbformat": 4,
 "nbformat_minor": 2
}
